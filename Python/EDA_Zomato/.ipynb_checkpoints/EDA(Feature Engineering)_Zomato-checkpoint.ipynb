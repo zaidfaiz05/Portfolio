{
 "cells": [
  {
   "cell_type": "markdown",
   "id": "12774c00-4f41-4f44-a50e-8f9d1988cfea",
   "metadata": {},
   "source": [
    "# EDA(Feature Engineering)"
   ]
  },
  {
   "cell_type": "markdown",
   "id": "38f6942f-730b-4847-ab1a-00aea9668b89",
   "metadata": {},
   "source": [
    "Dataset used: https://www.kaggle.com/datasets/rajeshrampure/zomato-dataset"
   ]
  },
  {
   "cell_type": "code",
   "execution_count": 67,
   "id": "d3a660f7-83bc-4108-a12e-0074721404d8",
   "metadata": {},
   "outputs": [],
   "source": [
    "import pandas as pd\n",
    "import numpy as np"
   ]
  },
  {
   "cell_type": "code",
   "execution_count": 68,
   "id": "2445b5cf-b5c2-4f52-9d23-99c357262b6f",
   "metadata": {},
   "outputs": [],
   "source": [
    "df=pd.read_csv('zomato.csv')"
   ]
  },
  {
   "cell_type": "code",
   "execution_count": 69,
   "id": "015d96ca-81ae-42df-bbed-b4379c740494",
   "metadata": {},
   "outputs": [
    {
     "data": {
      "text/plain": [
       "(51717, 17)"
      ]
     },
     "execution_count": 69,
     "metadata": {},
     "output_type": "execute_result"
    }
   ],
   "source": [
    "df.shape"
   ]
  },
  {
   "cell_type": "code",
   "execution_count": 70,
   "id": "5b1cf8bd-2130-4e09-84b8-fff7a1da233d",
   "metadata": {},
   "outputs": [
    {
     "data": {
      "text/html": [
       "<div>\n",
       "<style scoped>\n",
       "    .dataframe tbody tr th:only-of-type {\n",
       "        vertical-align: middle;\n",
       "    }\n",
       "\n",
       "    .dataframe tbody tr th {\n",
       "        vertical-align: top;\n",
       "    }\n",
       "\n",
       "    .dataframe thead th {\n",
       "        text-align: right;\n",
       "    }\n",
       "</style>\n",
       "<table border=\"1\" class=\"dataframe\">\n",
       "  <thead>\n",
       "    <tr style=\"text-align: right;\">\n",
       "      <th></th>\n",
       "      <th>url</th>\n",
       "      <th>address</th>\n",
       "      <th>name</th>\n",
       "      <th>online_order</th>\n",
       "      <th>book_table</th>\n",
       "      <th>rate</th>\n",
       "      <th>votes</th>\n",
       "      <th>phone</th>\n",
       "      <th>location</th>\n",
       "      <th>rest_type</th>\n",
       "      <th>dish_liked</th>\n",
       "      <th>cuisines</th>\n",
       "      <th>approx_cost(for two people)</th>\n",
       "      <th>reviews_list</th>\n",
       "      <th>menu_item</th>\n",
       "      <th>listed_in(type)</th>\n",
       "      <th>listed_in(city)</th>\n",
       "    </tr>\n",
       "  </thead>\n",
       "  <tbody>\n",
       "    <tr>\n",
       "      <th>0</th>\n",
       "      <td>https://www.zomato.com/bangalore/jalsa-banasha...</td>\n",
       "      <td>942, 21st Main Road, 2nd Stage, Banashankari, ...</td>\n",
       "      <td>Jalsa</td>\n",
       "      <td>Yes</td>\n",
       "      <td>Yes</td>\n",
       "      <td>4.1/5</td>\n",
       "      <td>775</td>\n",
       "      <td>080 42297555\\r\\n+91 9743772233</td>\n",
       "      <td>Banashankari</td>\n",
       "      <td>Casual Dining</td>\n",
       "      <td>Pasta, Lunch Buffet, Masala Papad, Paneer Laja...</td>\n",
       "      <td>North Indian, Mughlai, Chinese</td>\n",
       "      <td>800</td>\n",
       "      <td>[('Rated 4.0', 'RATED\\n  A beautiful place to ...</td>\n",
       "      <td>[]</td>\n",
       "      <td>Buffet</td>\n",
       "      <td>Banashankari</td>\n",
       "    </tr>\n",
       "    <tr>\n",
       "      <th>1</th>\n",
       "      <td>https://www.zomato.com/bangalore/spice-elephan...</td>\n",
       "      <td>2nd Floor, 80 Feet Road, Near Big Bazaar, 6th ...</td>\n",
       "      <td>Spice Elephant</td>\n",
       "      <td>Yes</td>\n",
       "      <td>No</td>\n",
       "      <td>4.1/5</td>\n",
       "      <td>787</td>\n",
       "      <td>080 41714161</td>\n",
       "      <td>Banashankari</td>\n",
       "      <td>Casual Dining</td>\n",
       "      <td>Momos, Lunch Buffet, Chocolate Nirvana, Thai G...</td>\n",
       "      <td>Chinese, North Indian, Thai</td>\n",
       "      <td>800</td>\n",
       "      <td>[('Rated 4.0', 'RATED\\n  Had been here for din...</td>\n",
       "      <td>[]</td>\n",
       "      <td>Buffet</td>\n",
       "      <td>Banashankari</td>\n",
       "    </tr>\n",
       "    <tr>\n",
       "      <th>2</th>\n",
       "      <td>https://www.zomato.com/SanchurroBangalore?cont...</td>\n",
       "      <td>1112, Next to KIMS Medical College, 17th Cross...</td>\n",
       "      <td>San Churro Cafe</td>\n",
       "      <td>Yes</td>\n",
       "      <td>No</td>\n",
       "      <td>3.8/5</td>\n",
       "      <td>918</td>\n",
       "      <td>+91 9663487993</td>\n",
       "      <td>Banashankari</td>\n",
       "      <td>Cafe, Casual Dining</td>\n",
       "      <td>Churros, Cannelloni, Minestrone Soup, Hot Choc...</td>\n",
       "      <td>Cafe, Mexican, Italian</td>\n",
       "      <td>800</td>\n",
       "      <td>[('Rated 3.0', \"RATED\\n  Ambience is not that ...</td>\n",
       "      <td>[]</td>\n",
       "      <td>Buffet</td>\n",
       "      <td>Banashankari</td>\n",
       "    </tr>\n",
       "    <tr>\n",
       "      <th>3</th>\n",
       "      <td>https://www.zomato.com/bangalore/addhuri-udupi...</td>\n",
       "      <td>1st Floor, Annakuteera, 3rd Stage, Banashankar...</td>\n",
       "      <td>Addhuri Udupi Bhojana</td>\n",
       "      <td>No</td>\n",
       "      <td>No</td>\n",
       "      <td>3.7/5</td>\n",
       "      <td>88</td>\n",
       "      <td>+91 9620009302</td>\n",
       "      <td>Banashankari</td>\n",
       "      <td>Quick Bites</td>\n",
       "      <td>Masala Dosa</td>\n",
       "      <td>South Indian, North Indian</td>\n",
       "      <td>300</td>\n",
       "      <td>[('Rated 4.0', \"RATED\\n  Great food and proper...</td>\n",
       "      <td>[]</td>\n",
       "      <td>Buffet</td>\n",
       "      <td>Banashankari</td>\n",
       "    </tr>\n",
       "    <tr>\n",
       "      <th>4</th>\n",
       "      <td>https://www.zomato.com/bangalore/grand-village...</td>\n",
       "      <td>10, 3rd Floor, Lakshmi Associates, Gandhi Baza...</td>\n",
       "      <td>Grand Village</td>\n",
       "      <td>No</td>\n",
       "      <td>No</td>\n",
       "      <td>3.8/5</td>\n",
       "      <td>166</td>\n",
       "      <td>+91 8026612447\\r\\n+91 9901210005</td>\n",
       "      <td>Basavanagudi</td>\n",
       "      <td>Casual Dining</td>\n",
       "      <td>Panipuri, Gol Gappe</td>\n",
       "      <td>North Indian, Rajasthani</td>\n",
       "      <td>600</td>\n",
       "      <td>[('Rated 4.0', 'RATED\\n  Very good restaurant ...</td>\n",
       "      <td>[]</td>\n",
       "      <td>Buffet</td>\n",
       "      <td>Banashankari</td>\n",
       "    </tr>\n",
       "  </tbody>\n",
       "</table>\n",
       "</div>"
      ],
      "text/plain": [
       "                                                 url  \\\n",
       "0  https://www.zomato.com/bangalore/jalsa-banasha...   \n",
       "1  https://www.zomato.com/bangalore/spice-elephan...   \n",
       "2  https://www.zomato.com/SanchurroBangalore?cont...   \n",
       "3  https://www.zomato.com/bangalore/addhuri-udupi...   \n",
       "4  https://www.zomato.com/bangalore/grand-village...   \n",
       "\n",
       "                                             address                   name  \\\n",
       "0  942, 21st Main Road, 2nd Stage, Banashankari, ...                  Jalsa   \n",
       "1  2nd Floor, 80 Feet Road, Near Big Bazaar, 6th ...         Spice Elephant   \n",
       "2  1112, Next to KIMS Medical College, 17th Cross...        San Churro Cafe   \n",
       "3  1st Floor, Annakuteera, 3rd Stage, Banashankar...  Addhuri Udupi Bhojana   \n",
       "4  10, 3rd Floor, Lakshmi Associates, Gandhi Baza...          Grand Village   \n",
       "\n",
       "  online_order book_table   rate  votes                             phone  \\\n",
       "0          Yes        Yes  4.1/5    775    080 42297555\\r\\n+91 9743772233   \n",
       "1          Yes         No  4.1/5    787                      080 41714161   \n",
       "2          Yes         No  3.8/5    918                    +91 9663487993   \n",
       "3           No         No  3.7/5     88                    +91 9620009302   \n",
       "4           No         No  3.8/5    166  +91 8026612447\\r\\n+91 9901210005   \n",
       "\n",
       "       location            rest_type  \\\n",
       "0  Banashankari        Casual Dining   \n",
       "1  Banashankari        Casual Dining   \n",
       "2  Banashankari  Cafe, Casual Dining   \n",
       "3  Banashankari          Quick Bites   \n",
       "4  Basavanagudi        Casual Dining   \n",
       "\n",
       "                                          dish_liked  \\\n",
       "0  Pasta, Lunch Buffet, Masala Papad, Paneer Laja...   \n",
       "1  Momos, Lunch Buffet, Chocolate Nirvana, Thai G...   \n",
       "2  Churros, Cannelloni, Minestrone Soup, Hot Choc...   \n",
       "3                                        Masala Dosa   \n",
       "4                                Panipuri, Gol Gappe   \n",
       "\n",
       "                         cuisines approx_cost(for two people)  \\\n",
       "0  North Indian, Mughlai, Chinese                         800   \n",
       "1     Chinese, North Indian, Thai                         800   \n",
       "2          Cafe, Mexican, Italian                         800   \n",
       "3      South Indian, North Indian                         300   \n",
       "4        North Indian, Rajasthani                         600   \n",
       "\n",
       "                                        reviews_list menu_item  \\\n",
       "0  [('Rated 4.0', 'RATED\\n  A beautiful place to ...        []   \n",
       "1  [('Rated 4.0', 'RATED\\n  Had been here for din...        []   \n",
       "2  [('Rated 3.0', \"RATED\\n  Ambience is not that ...        []   \n",
       "3  [('Rated 4.0', \"RATED\\n  Great food and proper...        []   \n",
       "4  [('Rated 4.0', 'RATED\\n  Very good restaurant ...        []   \n",
       "\n",
       "  listed_in(type) listed_in(city)  \n",
       "0          Buffet    Banashankari  \n",
       "1          Buffet    Banashankari  \n",
       "2          Buffet    Banashankari  \n",
       "3          Buffet    Banashankari  \n",
       "4          Buffet    Banashankari  "
      ]
     },
     "execution_count": 70,
     "metadata": {},
     "output_type": "execute_result"
    }
   ],
   "source": [
    "df.head()"
   ]
  },
  {
   "cell_type": "code",
   "execution_count": 71,
   "id": "c2272527-c3f1-42b3-8acd-575ded602999",
   "metadata": {},
   "outputs": [
    {
     "name": "stdout",
     "output_type": "stream",
     "text": [
      "<class 'pandas.core.frame.DataFrame'>\n",
      "RangeIndex: 51717 entries, 0 to 51716\n",
      "Data columns (total 17 columns):\n",
      " #   Column                       Non-Null Count  Dtype \n",
      "---  ------                       --------------  ----- \n",
      " 0   url                          51717 non-null  object\n",
      " 1   address                      51717 non-null  object\n",
      " 2   name                         51717 non-null  object\n",
      " 3   online_order                 51717 non-null  object\n",
      " 4   book_table                   51717 non-null  object\n",
      " 5   rate                         43942 non-null  object\n",
      " 6   votes                        51717 non-null  int64 \n",
      " 7   phone                        50509 non-null  object\n",
      " 8   location                     51696 non-null  object\n",
      " 9   rest_type                    51490 non-null  object\n",
      " 10  dish_liked                   23639 non-null  object\n",
      " 11  cuisines                     51672 non-null  object\n",
      " 12  approx_cost(for two people)  51371 non-null  object\n",
      " 13  reviews_list                 51717 non-null  object\n",
      " 14  menu_item                    51717 non-null  object\n",
      " 15  listed_in(type)              51717 non-null  object\n",
      " 16  listed_in(city)              51717 non-null  object\n",
      "dtypes: int64(1), object(16)\n",
      "memory usage: 6.7+ MB\n"
     ]
    }
   ],
   "source": [
    "df.info()"
   ]
  },
  {
   "cell_type": "code",
   "execution_count": 72,
   "id": "9452529c-f612-406d-b24a-3838747d178b",
   "metadata": {},
   "outputs": [
    {
     "data": {
      "text/plain": [
       "url                            object\n",
       "address                        object\n",
       "name                           object\n",
       "online_order                   object\n",
       "book_table                     object\n",
       "rate                           object\n",
       "votes                           int64\n",
       "phone                          object\n",
       "location                       object\n",
       "rest_type                      object\n",
       "dish_liked                     object\n",
       "cuisines                       object\n",
       "approx_cost(for two people)    object\n",
       "reviews_list                   object\n",
       "menu_item                      object\n",
       "listed_in(type)                object\n",
       "listed_in(city)                object\n",
       "dtype: object"
      ]
     },
     "execution_count": 72,
     "metadata": {},
     "output_type": "execute_result"
    }
   ],
   "source": [
    "df.dtypes"
   ]
  },
  {
   "cell_type": "code",
   "execution_count": 73,
   "id": "b90946b6-b88a-4cc7-bee7-7e0be0a934ca",
   "metadata": {},
   "outputs": [
    {
     "name": "stdout",
     "output_type": "stream",
     "text": [
      "Column: url\n",
      "Unique categories: 51717\n",
      " \n",
      "Column: address\n",
      "Unique categories: 11495\n",
      " \n",
      "Column: name\n",
      "Unique categories: 8792\n",
      " \n",
      "Column: online_order\n",
      "Unique categories: 2\n",
      " \n",
      "Column: book_table\n",
      "Unique categories: 2\n",
      " \n",
      "Column: rate\n",
      "Unique categories: 64\n",
      " \n",
      "Column: phone\n",
      "Unique categories: 14926\n",
      " \n",
      "Column: location\n",
      "Unique categories: 93\n",
      " \n",
      "Column: rest_type\n",
      "Unique categories: 93\n",
      " \n",
      "Column: dish_liked\n",
      "Unique categories: 5271\n",
      " \n",
      "Column: cuisines\n",
      "Unique categories: 2723\n",
      " \n",
      "Column: approx_cost(for two people)\n",
      "Unique categories: 70\n",
      " \n",
      "Column: reviews_list\n",
      "Unique categories: 22513\n",
      " \n",
      "Column: menu_item\n",
      "Unique categories: 9098\n",
      " \n",
      "Column: listed_in(type)\n",
      "Unique categories: 7\n",
      " \n",
      "Column: listed_in(city)\n",
      "Unique categories: 30\n",
      " \n"
     ]
    }
   ],
   "source": [
    "# checking the count of unique categories in all object type columns\n",
    "for column in df.select_dtypes (include='object').columns:\n",
    "    print(\"Column:\", column)\n",
    "    print(\"Unique categories:\",df[column].nunique())\n",
    "    print(\" \")"
   ]
  },
  {
   "cell_type": "code",
   "execution_count": 74,
   "id": "a8bb16a2-8fb3-436e-99e5-92fae9446a37",
   "metadata": {},
   "outputs": [
    {
     "data": {
      "text/plain": [
       "url                                0\n",
       "address                            0\n",
       "name                               0\n",
       "online_order                       0\n",
       "book_table                         0\n",
       "rate                            7775\n",
       "votes                              0\n",
       "phone                           1208\n",
       "location                          21\n",
       "rest_type                        227\n",
       "dish_liked                     28078\n",
       "cuisines                          45\n",
       "approx_cost(for two people)      346\n",
       "reviews_list                       0\n",
       "menu_item                          0\n",
       "listed_in(type)                    0\n",
       "listed_in(city)                    0\n",
       "dtype: int64"
      ]
     },
     "execution_count": 74,
     "metadata": {},
     "output_type": "execute_result"
    }
   ],
   "source": [
    "df.isnull().sum()\n",
    "#only do treatment on independent variables, not on target variable, if target variables has null, no choice but to drop it"
   ]
  },
  {
   "cell_type": "code",
   "execution_count": 75,
   "id": "ce8eed7b-d87f-4598-a789-e0eac724ef95",
   "metadata": {},
   "outputs": [
    {
     "name": "stdout",
     "output_type": "stream",
     "text": [
      "Shape before dropping the rows (51717, 17)\n",
      "Shape after dropping the rows (43942, 17)\n"
     ]
    },
    {
     "data": {
      "text/plain": [
       "url                                0\n",
       "address                            0\n",
       "name                               0\n",
       "online_order                       0\n",
       "book_table                         0\n",
       "rate                               0\n",
       "votes                              0\n",
       "phone                            832\n",
       "location                           0\n",
       "rest_type                        151\n",
       "dish_liked                     20333\n",
       "cuisines                          11\n",
       "approx_cost(for two people)      252\n",
       "reviews_list                       0\n",
       "menu_item                          0\n",
       "listed_in(type)                    0\n",
       "listed_in(city)                    0\n",
       "dtype: int64"
      ]
     },
     "execution_count": 75,
     "metadata": {},
     "output_type": "execute_result"
    }
   ],
   "source": [
    "print('Shape before dropping the rows',df.shape)\n",
    "df.dropna(subset=['rate'], inplace=True)\n",
    "print('Shape after dropping the rows',df.shape)\n",
    "df.isnull().sum()"
   ]
  },
  {
   "cell_type": "code",
   "execution_count": 76,
   "id": "42c7d166-1e9c-4e2d-90d3-d1a9085ec02e",
   "metadata": {},
   "outputs": [
    {
     "data": {
      "text/plain": [
       "array(['4.1/5', '3.8/5', '3.7/5', '3.6/5', '4.6/5', '4.0/5', '4.2/5',\n",
       "       '3.9/5', '3.1/5', '3.0/5', '3.2/5', '3.3/5', '2.8/5', '4.4/5',\n",
       "       '4.3/5', 'NEW', '2.9/5', '3.5/5', '2.6/5', '3.8 /5', '3.4/5',\n",
       "       '4.5/5', '2.5/5', '2.7/5', '4.7/5', '2.4/5', '2.2/5', '2.3/5',\n",
       "       '3.4 /5', '-', '3.6 /5', '4.8/5', '3.9 /5', '4.2 /5', '4.0 /5',\n",
       "       '4.1 /5', '3.7 /5', '3.1 /5', '2.9 /5', '3.3 /5', '2.8 /5',\n",
       "       '3.5 /5', '2.7 /5', '2.5 /5', '3.2 /5', '2.6 /5', '4.5 /5',\n",
       "       '4.3 /5', '4.4 /5', '4.9/5', '2.1/5', '2.0/5', '1.8/5', '4.6 /5',\n",
       "       '4.9 /5', '3.0 /5', '4.8 /5', '2.3 /5', '4.7 /5', '2.4 /5',\n",
       "       '2.1 /5', '2.2 /5', '2.0 /5', '1.8 /5'], dtype=object)"
      ]
     },
     "execution_count": 76,
     "metadata": {},
     "output_type": "execute_result"
    }
   ],
   "source": [
    "df['rate'].unique() # slash, number in qoute, spaces, new, hyphen "
   ]
  },
  {
   "cell_type": "code",
   "execution_count": 77,
   "id": "e8edbfce-771b-4a09-ac2e-2da23b9184d5",
   "metadata": {},
   "outputs": [
    {
     "name": "stderr",
     "output_type": "stream",
     "text": [
      "<>:3: SyntaxWarning: invalid escape sequence '\\d'\n",
      "<>:3: SyntaxWarning: invalid escape sequence '\\d'\n",
      "/var/folders/hf/1jf3jzj52tq67yj1qs_jlytm0000gn/T/ipykernel_10756/3910695335.py:3: SyntaxWarning: invalid escape sequence '\\d'\n",
      "  df['rate'] = df['rate'].str.extract('(\\d+\\.\\d+)') #extract numeric part #\\d+ -> digit\n"
     ]
    }
   ],
   "source": [
    "#remove unwanted characters and convert to numeric\n",
    "df['rate'] = df['rate'].replace(['NEW','-'],np.nan)\n",
    "df['rate'] = df['rate'].str.extract('(\\d+\\.\\d+)') #extract numeric part #\\d+ -> digit\n",
    "df['rate']= pd.to_numeric(df['rate'], errors= 'coerce') # coerce-> convert everything that outside our expectation to nan"
   ]
  },
  {
   "cell_type": "code",
   "execution_count": 78,
   "id": "397105b6-e7fc-49c3-8b35-43e5ad17e232",
   "metadata": {},
   "outputs": [
    {
     "data": {
      "text/plain": [
       "2277"
      ]
     },
     "execution_count": 78,
     "metadata": {},
     "output_type": "execute_result"
    }
   ],
   "source": [
    "df['rate'].isna().sum()"
   ]
  },
  {
   "cell_type": "code",
   "execution_count": 79,
   "id": "85ff1994-ab5c-4614-9ddd-0b1ff50a2d41",
   "metadata": {},
   "outputs": [
    {
     "data": {
      "text/plain": [
       "0"
      ]
     },
     "execution_count": 79,
     "metadata": {},
     "output_type": "execute_result"
    }
   ],
   "source": [
    "df.dropna(subset=['rate'], inplace=True)\n",
    "df['rate'].isna().sum()"
   ]
  },
  {
   "cell_type": "code",
   "execution_count": 80,
   "id": "ef5b1105-6233-4e15-8b0b-7e012b2feadc",
   "metadata": {},
   "outputs": [
    {
     "data": {
      "text/plain": [
       "array([4.1, 3.8, 3.7, 3.6, 4.6, 4. , 4.2, 3.9, 3.1, 3. , 3.2, 3.3, 2.8,\n",
       "       4.4, 4.3, 2.9, 3.5, 2.6, 3.4, 4.5, 2.5, 2.7, 4.7, 2.4, 2.2, 2.3,\n",
       "       4.8, 4.9, 2.1, 2. , 1.8])"
      ]
     },
     "execution_count": 80,
     "metadata": {},
     "output_type": "execute_result"
    }
   ],
   "source": [
    "df['rate'].unique()"
   ]
  },
  {
   "cell_type": "code",
   "execution_count": 81,
   "id": "c2f1d2a7-4ad6-4946-9d93-c169eb81ae09",
   "metadata": {},
   "outputs": [
    {
     "data": {
      "text/plain": [
       "dtype('float64')"
      ]
     },
     "execution_count": 81,
     "metadata": {},
     "output_type": "execute_result"
    }
   ],
   "source": [
    "df['rate'].dtype"
   ]
  },
  {
   "cell_type": "code",
   "execution_count": 82,
   "id": "6ec2bdd9-7681-4a4c-8e38-40c0faf3d354",
   "metadata": {},
   "outputs": [
    {
     "data": {
      "text/plain": [
       "array(['800', '300', '600', '700', '550', '500', '450', '650', '400',\n",
       "       '900', '200', '750', '150', '850', '100', '1,200', '350', '250',\n",
       "       '950', '1,000', '1,500', '1,300', '199', '1,100', '1,600', '230',\n",
       "       '130', '1,700', '1,350', '2,200', '1,400', '2,000', '1,800', nan,\n",
       "       '1,900', '180', '330', '2,500', '2,100', '3,000', '2,800', '3,400',\n",
       "       '50', '40', '1,250', '3,500', '4,000', '2,400', '2,600', '1,450',\n",
       "       '70', '3,200', '240', '6,000', '1,050', '2,300', '4,100', '120',\n",
       "       '5,000', '3,700', '1,650', '2,700', '4,500', '80'], dtype=object)"
      ]
     },
     "execution_count": 82,
     "metadata": {},
     "output_type": "execute_result"
    }
   ],
   "source": [
    "df= df.rename(columns={'approx_cost(for two people)':'cost'})\n",
    "df['cost'].unique()"
   ]
  },
  {
   "cell_type": "code",
   "execution_count": 83,
   "id": "924c5c86-3e42-4d83-84b6-ab4c2f373cbe",
   "metadata": {},
   "outputs": [
    {
     "data": {
      "text/plain": [
       "0"
      ]
     },
     "execution_count": 83,
     "metadata": {},
     "output_type": "execute_result"
    }
   ],
   "source": [
    "df['cost']= df['cost'].replace(\",\",\"\",regex=True).astype(float)\n",
    "df['cost']= df['cost'].fillna(df['cost'].median())\n",
    "df['cost'].isna().sum()"
   ]
  },
  {
   "cell_type": "markdown",
   "id": "e74f96e6-5f47-4f63-a893-a5cb5d37f033",
   "metadata": {},
   "source": [
    "# Feature engineering"
   ]
  },
  {
   "cell_type": "code",
   "execution_count": 85,
   "id": "dba3b5a0-b9ff-452f-9dcb-ee8df093a279",
   "metadata": {},
   "outputs": [],
   "source": [
    "#deriving new feature from given feature"
   ]
  },
  {
   "cell_type": "code",
   "execution_count": 86,
   "id": "7ac086b3-a4c9-4f4f-90c8-f0a5de082974",
   "metadata": {},
   "outputs": [
    {
     "name": "stdout",
     "output_type": "stream",
     "text": [
      "Unique listed places 30\n"
     ]
    },
    {
     "data": {
      "text/plain": [
       "array(['Banashankari', 'Bannerghatta Road', 'Basavanagudi', 'Bellandur',\n",
       "       'Brigade Road', 'Brookefield', 'BTM', 'Church Street',\n",
       "       'Electronic City', 'Frazer Town', 'HSR', 'Indiranagar',\n",
       "       'Jayanagar', 'JP Nagar', 'Kalyan Nagar', 'Kammanahalli',\n",
       "       'Koramangala 4th Block', 'Koramangala 5th Block',\n",
       "       'Koramangala 6th Block', 'Koramangala 7th Block', 'Lavelle Road',\n",
       "       'Malleshwaram', 'Marathahalli', 'MG Road', 'New BEL Road',\n",
       "       'Old Airport Road', 'Rajajinagar', 'Residency Road',\n",
       "       'Sarjapur Road', 'Whitefield'], dtype=object)"
      ]
     },
     "execution_count": 86,
     "metadata": {},
     "output_type": "execute_result"
    }
   ],
   "source": [
    "print(\"Unique listed places\", df['listed_in(city)'].nunique())\n",
    "df['listed_in(city)'].unique()"
   ]
  },
  {
   "cell_type": "code",
   "execution_count": 87,
   "id": "da8b92a3-4ff7-4233-a135-f9ba5a3ec5e1",
   "metadata": {},
   "outputs": [
    {
     "data": {
      "text/plain": [
       "listed_in(city)\n",
       "South      20463\n",
       "East       10442\n",
       "Central     7357\n",
       "West        1825\n",
       "North       1578\n",
       "Name: count, dtype: int64"
      ]
     },
     "execution_count": 87,
     "metadata": {},
     "output_type": "execute_result"
    }
   ],
   "source": [
    "location_counts_to_region= {\n",
    "    'Banashankari':'South',\n",
    "    'Bannerghatta Road':'South',\n",
    "    'Basavanagudi':'South',\n",
    "    'Bellandur':'East',\n",
    "    'Brigade Road':'Central', \n",
    "    'Brookefield':'East',\n",
    "    'BTM':'South',\n",
    "    'Church Street':'Central',\n",
    "    'Electronic City':'South',\n",
    "    'Frazer Town':'East',\n",
    "    'HSR':'South',\n",
    "    'Indiranagar':'East',\n",
    "    'Jayanagar':'South',\n",
    "    'JP Nagar':'South',\n",
    "    'Kalyan Nagar':'North',\n",
    "    'Kammanahalli':'East',\n",
    "    'Koramangala 4th Block':'South',\n",
    "    'Koramangala 5th Block':'South',\n",
    "    'Koramangala 6th Block':'South',\n",
    "    'Koramangala 7th Block':'South',\n",
    "    'Lavelle Road':'Central',\n",
    "    'Malleshwaram':'West',\n",
    "    'Marathahalli':'East',\n",
    "    'MG Road':'Central',\n",
    "    'New BEL Road':'North',\n",
    "    'Old Airport Road':'East',\n",
    "    'Rajajinagar':'West',\n",
    "    'Residency Road':'Central',\n",
    "    'Sarjapur Road':'East', \n",
    "    'Whitefield':'East'\n",
    "}\n",
    "\n",
    "df['listed_in(city)']= df['listed_in(city)'].map(location_counts_to_region)\n",
    "df['listed_in(city)'].value_counts()"
   ]
  },
  {
   "cell_type": "code",
   "execution_count": 88,
   "id": "d2aff1f4-12c1-4b93-83b9-a9316c6e0423",
   "metadata": {},
   "outputs": [
    {
     "name": "stdout",
     "output_type": "stream",
     "text": [
      "Unique delivery locations 92\n"
     ]
    },
    {
     "data": {
      "text/plain": [
       "location\n",
       "BTM                      3930\n",
       "Koramangala 5th Block    2319\n",
       "HSR                      2019\n",
       "Indiranagar              1847\n",
       "JP Nagar                 1717\n",
       "                         ... \n",
       "Yelahanka                   5\n",
       "West Bangalore              3\n",
       "Rajarajeshwari Nagar        2\n",
       "Nagarbhavi                  1\n",
       "Peenya                      1\n",
       "Name: count, Length: 92, dtype: int64"
      ]
     },
     "execution_count": 88,
     "metadata": {},
     "output_type": "execute_result"
    }
   ],
   "source": [
    "print(\"Unique delivery locations\",df['location'].nunique())\n",
    "df['location'].value_counts()"
   ]
  },
  {
   "cell_type": "code",
   "execution_count": 89,
   "id": "ef528042-f84f-4501-9e7a-b9d0ab556b8b",
   "metadata": {},
   "outputs": [
    {
     "data": {
      "text/plain": [
       "array(['Banashankari', 'Basavanagudi', 'Mysore Road', 'Jayanagar',\n",
       "       'Kumaraswamy Layout', 'Rajarajeshwari Nagar', 'Vijay Nagar',\n",
       "       'Uttarahalli', 'JP Nagar', 'South Bangalore', 'City Market',\n",
       "       'Bannerghatta Road', 'BTM', 'Kanakapura Road', 'Bommanahalli',\n",
       "       'Electronic City', 'Sarjapur Road', 'Wilson Garden',\n",
       "       'Shanti Nagar', 'Koramangala 5th Block', 'Richmond Road', 'HSR',\n",
       "       'Koramangala 7th Block', 'Bellandur', 'Marathahalli', 'Whitefield',\n",
       "       'East Bangalore', 'Old Airport Road', 'Indiranagar',\n",
       "       'Koramangala 1st Block', 'Frazer Town', 'MG Road', 'Brigade Road',\n",
       "       'Lavelle Road', 'Church Street', 'Ulsoor', 'Residency Road',\n",
       "       'Shivajinagar', 'Infantry Road', 'St. Marks Road',\n",
       "       'Cunningham Road', 'Race Course Road', 'Commercial Street',\n",
       "       'Vasanth Nagar', 'Domlur', 'Koramangala 8th Block', 'Ejipura',\n",
       "       'Jeevan Bhima Nagar', 'Old Madras Road', 'Seshadripuram',\n",
       "       'Kammanahalli', 'Koramangala 6th Block', 'Majestic',\n",
       "       'Langford Town', 'Central Bangalore', 'Brookefield',\n",
       "       'ITPL Main Road, Whitefield', 'Varthur Main Road, Whitefield',\n",
       "       'Koramangala 2nd Block', 'Koramangala 3rd Block',\n",
       "       'Koramangala 4th Block', 'Koramangala', 'Hosur Road', 'RT Nagar',\n",
       "       'Banaswadi', 'North Bangalore', 'Nagawara', 'Hennur',\n",
       "       'Kalyan Nagar', 'HBR Layout', 'Rammurthy Nagar', 'Thippasandra',\n",
       "       'CV Raman Nagar', 'Kaggadasapura', 'Kengeri', 'Sankey Road',\n",
       "       'Malleshwaram', 'Sanjay Nagar', 'Sadashiv Nagar',\n",
       "       'Basaveshwara Nagar', 'Rajajinagar', 'Yeshwantpur', 'New BEL Road',\n",
       "       'West Bangalore', 'Magadi Road', 'Yelahanka', 'Sahakara Nagar',\n",
       "       'Jalahalli', 'Hebbal', 'Nagarbhavi', 'Peenya', 'KR Puram'],\n",
       "      dtype=object)"
      ]
     },
     "execution_count": 89,
     "metadata": {},
     "output_type": "execute_result"
    }
   ],
   "source": [
    "df['location'].unique()"
   ]
  },
  {
   "cell_type": "code",
   "execution_count": 90,
   "id": "8a70d2b0-3ddc-42f4-94b0-1113c3e09a55",
   "metadata": {},
   "outputs": [
    {
     "data": {
      "text/plain": [
       "location\n",
       "South      20095\n",
       "East       12478\n",
       "Central     6855\n",
       "North       1408\n",
       "West         829\n",
       "Name: count, dtype: int64"
      ]
     },
     "execution_count": 90,
     "metadata": {},
     "output_type": "execute_result"
    }
   ],
   "source": [
    "location_counts_to_region={\n",
    "    'Banashankari':'South',\n",
    "    'Basavanagudi':'South',\n",
    "    'Mysore Road':'West',\n",
    "    'Jayanagar':'South',\n",
    "    'Kumaraswamy Layout':'South',\n",
    "    'Rajarajeshwari Nagar':'South',\n",
    "    'Vijay Nagar':'West',\n",
    "    'Uttarahalli':'South',\n",
    "    'JP Nagar':'South',\n",
    "    'South Bangalore':'South',\n",
    "    'City Market':'Central',\n",
    "    'Bannerghatta Road':'South',\n",
    "    'BTM':'South',\n",
    "    'Kanakapura Road':'South',\n",
    "    'Bommanahalli':'South',\n",
    "    'Electronic City':'South',\n",
    "    'Sarjapur Road':'East',\n",
    "    'Wilson Garden':'South',\n",
    "    'Shanti Nagar':'Central',\n",
    "    'Koramangala 5th Block':'South',\n",
    "    'Richmond Road':'Central',\n",
    "    'HSR':'South',\n",
    "    'Koramangala 7th Block':'South',\n",
    "    'Bellandur':'East',\n",
    "    'Marathahalli':'East', \n",
    "    'Whitefield':'East',\n",
    "    'East Bangalore':'East',\n",
    "    'Old Airport Road':'East', \n",
    "    'Indiranagar':'East',\n",
    "    'Koramangala 1st Block':'South',\n",
    "    'Frazer Town':'East',\n",
    "    'MG Road':'Central',\n",
    "    'Brigade Road':'Central',\n",
    "    'Lavelle Road':'Central',\n",
    "    'Church Street':'Central',\n",
    "    'Ulsoor':'East',\n",
    "    'Residency Road':'Central',\n",
    "    'Shivajinagar':'Central',\n",
    "    'Infantry Road':'Central',\n",
    "    'St. Marks Road':'Central',\n",
    "    'Cunningham Road':'Central',\n",
    "    'Race Course Road':'Central',\n",
    "    'Commercial Street':'Central',\n",
    "    'Vasanth Nagar':'Central',\n",
    "    'Domlur':'East',\n",
    "    'Koramangala 8th Block':'South',\n",
    "    'Ejipura':'East',\n",
    "    'Jeevan Bhima Nagar':'East',\n",
    "    'Old Madras Road':'East',\n",
    "    'Seshadripuram':'Central',\n",
    "    'Kammanahalli':'East',\n",
    "    'Koramangala 6th Block':'South',\n",
    "    'Majestic':'Central',\n",
    "    'Langford Town':'Central',\n",
    "    'Central Bangalore':'Central',\n",
    "    'Brookefield':'East',\n",
    "    'ITPL Main Road, Whitefield':'East',\n",
    "    'Varthur Main Road, Whitefield':'East',\n",
    "    'Koramangala 2nd Block':'South',\n",
    "    'Koramangala 3rd Block':'South',\n",
    "    'Koramangala 4th Block':'South',\n",
    "    'Koramangala':'South',\n",
    "    'Hosur Road':'South',\n",
    "    'RT Nagar':'North',\n",
    "    'Banaswadi':'East',\n",
    "    'North Bangalore':'North',\n",
    "    'Nagawara':'East',\n",
    "    'Hennur':'East',\n",
    "    'Kalyan Nagar':'East',\n",
    "    'HBR Layout':'Central', \n",
    "    'Rammurthy Nagar':'East',\n",
    "    'Thippasandra':'East',\n",
    "    'CV Raman Nagar':'East', \n",
    "    'Kaggadasapura':'East',\n",
    "    'Kengeri':'West',\n",
    "    'Sankey Road':'Central',\n",
    "    'Malleshwaram':'North',\n",
    "    'Sanjay Nagar':'North',\n",
    "    'Sadashiv Nagar':'North',\n",
    "    'Basaveshwara Nagar':'West',\n",
    "    'Rajajinagar':'West',\n",
    "    'Yeshwantpur':'West',\n",
    "    'New BEL Road':'North',\n",
    "    'West Bangalore':'West',\n",
    "    'Magadi Road':'West',\n",
    "    'Yelahanka':'North',\n",
    "    'Sahakara Nagar':'North',\n",
    "    'Jalahalli':'North',\n",
    "    'Hebbal':'North',\n",
    "    'Nagarbhavi':'West',\n",
    "    'Peenya':'West',\n",
    "    'KR Puram':'East'\n",
    "}\n",
    "\n",
    "df['location']= df['location'].map(location_counts_to_region)\n",
    "\n",
    "df['location'].value_counts()"
   ]
  },
  {
   "cell_type": "code",
   "execution_count": 123,
   "id": "6d30280a-f3b5-49b2-813b-81baa47a3952",
   "metadata": {},
   "outputs": [
    {
     "data": {
      "text/html": [
       "<div>\n",
       "<style scoped>\n",
       "    .dataframe tbody tr th:only-of-type {\n",
       "        vertical-align: middle;\n",
       "    }\n",
       "\n",
       "    .dataframe tbody tr th {\n",
       "        vertical-align: top;\n",
       "    }\n",
       "\n",
       "    .dataframe thead th {\n",
       "        text-align: right;\n",
       "    }\n",
       "</style>\n",
       "<table border=\"1\" class=\"dataframe\">\n",
       "  <thead>\n",
       "    <tr style=\"text-align: right;\">\n",
       "      <th>listed_in(city)</th>\n",
       "      <th>Central</th>\n",
       "      <th>East</th>\n",
       "      <th>North</th>\n",
       "      <th>South</th>\n",
       "      <th>West</th>\n",
       "    </tr>\n",
       "    <tr>\n",
       "      <th>location</th>\n",
       "      <th></th>\n",
       "      <th></th>\n",
       "      <th></th>\n",
       "      <th></th>\n",
       "      <th></th>\n",
       "    </tr>\n",
       "  </thead>\n",
       "  <tbody>\n",
       "    <tr>\n",
       "      <th>Central</th>\n",
       "      <td>5884</td>\n",
       "      <td>583</td>\n",
       "      <td>47</td>\n",
       "      <td>115</td>\n",
       "      <td>226</td>\n",
       "    </tr>\n",
       "    <tr>\n",
       "      <th>East</th>\n",
       "      <td>1271</td>\n",
       "      <td>9635</td>\n",
       "      <td>946</td>\n",
       "      <td>620</td>\n",
       "      <td>6</td>\n",
       "    </tr>\n",
       "    <tr>\n",
       "      <th>North</th>\n",
       "      <td>7</td>\n",
       "      <td>32</td>\n",
       "      <td>538</td>\n",
       "      <td>0</td>\n",
       "      <td>831</td>\n",
       "    </tr>\n",
       "    <tr>\n",
       "      <th>South</th>\n",
       "      <td>195</td>\n",
       "      <td>187</td>\n",
       "      <td>1</td>\n",
       "      <td>19708</td>\n",
       "      <td>4</td>\n",
       "    </tr>\n",
       "    <tr>\n",
       "      <th>West</th>\n",
       "      <td>0</td>\n",
       "      <td>5</td>\n",
       "      <td>46</td>\n",
       "      <td>20</td>\n",
       "      <td>758</td>\n",
       "    </tr>\n",
       "  </tbody>\n",
       "</table>\n",
       "</div>"
      ],
      "text/plain": [
       "listed_in(city)  Central  East  North  South  West\n",
       "location                                          \n",
       "Central             5884   583     47    115   226\n",
       "East                1271  9635    946    620     6\n",
       "North                  7    32    538      0   831\n",
       "South                195   187      1  19708     4\n",
       "West                   0     5     46     20   758"
      ]
     },
     "execution_count": 123,
     "metadata": {},
     "output_type": "execute_result"
    }
   ],
   "source": [
    "#checking crosstab values for matches\n",
    "pd.crosstab(df['location'],df['listed_in(city)']) #location can affect rating, time taken, temp/freshness of food"
   ]
  },
  {
   "cell_type": "code",
   "execution_count": 127,
   "id": "82174a70-7633-4d89-b514-84989bb51516",
   "metadata": {},
   "outputs": [
    {
     "data": {
      "text/plain": [
       "same_locality\n",
       "1    36523\n",
       "0     5142\n",
       "Name: count, dtype: int64"
      ]
     },
     "execution_count": 127,
     "metadata": {},
     "output_type": "execute_result"
    }
   ],
   "source": [
    "#deriving new feature based on whether the delivery location and listed_in(city) match\n",
    "df['same_locality']=(df['location']==df['listed_in(city)']).astype(int)\n",
    "\n",
    "df['same_locality'].value_counts()"
   ]
  },
  {
   "cell_type": "code",
   "execution_count": 129,
   "id": "53952f2f-c77f-43f4-af35-ea93f49b1968",
   "metadata": {},
   "outputs": [
    {
     "data": {
      "text/plain": [
       "dish_liked       5224\n",
       "reviews_list    21272\n",
       "menu_item        8271\n",
       "dtype: int64"
      ]
     },
     "execution_count": 129,
     "metadata": {},
     "output_type": "execute_result"
    }
   ],
   "source": [
    "df[['dish_liked','reviews_list','menu_item']].nunique()"
   ]
  },
  {
   "cell_type": "code",
   "execution_count": 133,
   "id": "e08f2bbc-5c61-4256-9bc3-423e67ea1d5d",
   "metadata": {},
   "outputs": [
    {
     "data": {
      "text/plain": [
       "dish_liked\n",
       "Biryani                                                                                                                 0.007672\n",
       "Friendly Staff                                                                                                          0.002898\n",
       "Waffles                                                                                                                 0.002856\n",
       "Chicken Biryani                                                                                                         0.002813\n",
       "Masala Dosa                                                                                                             0.002387\n",
       "                                                                                                                          ...   \n",
       "Banana Cake, Ginger Lemon Tea, Poha, Mango Shake, Masala Chai, Paneer Sandwich, Vada Pav                                0.000043\n",
       "Tea, Coffee, Kadala Curry, Chicken Dum Biryani, Shawarma, Ghee Rice, Chicken Kebab                                      0.000043\n",
       "Garlic Bread, Nachos, Pasta, Thin Crust Pizza, Hawaian Pizza, Manali Pizza                                              0.000043\n",
       "Chicken Cheese Sandwich, Cheese Sandwiches, Chocolate Sandwich, Chocolate Sandwiches, French Fries, Teriyaki Chicken    0.000043\n",
       "Healthy Breakfast, Caesar Salad, English Breakfast, Burgers, Enchiladas, Omelette, Egg Burger                           0.000043\n",
       "Name: proportion, Length: 5224, dtype: float64"
      ]
     },
     "execution_count": 133,
     "metadata": {},
     "output_type": "execute_result"
    }
   ],
   "source": [
    "df['dish_liked'].value_counts(normalize=True)"
   ]
  },
  {
   "cell_type": "code",
   "execution_count": 135,
   "id": "d8138211-f179-4d4c-9543-f690fe4e07e1",
   "metadata": {},
   "outputs": [],
   "source": [
    "#drop unwanted columns\n",
    "df.drop(['url','address','location','listed_in(city)','name','phone','dish_liked','reviews_list','menu_item'],axis=1,inplace=True)"
   ]
  },
  {
   "cell_type": "code",
   "execution_count": 137,
   "id": "9eab5e87-3178-4532-bea6-00e133a40191",
   "metadata": {},
   "outputs": [
    {
     "data": {
      "text/plain": [
       "9"
      ]
     },
     "execution_count": 137,
     "metadata": {},
     "output_type": "execute_result"
    }
   ],
   "source": [
    "df.shape[1]"
   ]
  },
  {
   "cell_type": "code",
   "execution_count": 139,
   "id": "10eb51d9-bc94-4e10-8df2-20f74e5cfaed",
   "metadata": {},
   "outputs": [
    {
     "data": {
      "text/plain": [
       "Index(['online_order', 'book_table', 'rate', 'votes', 'rest_type', 'cuisines',\n",
       "       'cost', 'listed_in(type)', 'same_locality'],\n",
       "      dtype='object')"
      ]
     },
     "execution_count": 139,
     "metadata": {},
     "output_type": "execute_result"
    }
   ],
   "source": [
    "df.columns"
   ]
  },
  {
   "cell_type": "code",
   "execution_count": 143,
   "id": "941efc36-7afc-4c4d-bfde-3a09133c3e55",
   "metadata": {},
   "outputs": [
    {
     "data": {
      "text/html": [
       "<div>\n",
       "<style scoped>\n",
       "    .dataframe tbody tr th:only-of-type {\n",
       "        vertical-align: middle;\n",
       "    }\n",
       "\n",
       "    .dataframe tbody tr th {\n",
       "        vertical-align: top;\n",
       "    }\n",
       "\n",
       "    .dataframe thead th {\n",
       "        text-align: right;\n",
       "    }\n",
       "</style>\n",
       "<table border=\"1\" class=\"dataframe\">\n",
       "  <thead>\n",
       "    <tr style=\"text-align: right;\">\n",
       "      <th></th>\n",
       "      <th>online_order</th>\n",
       "      <th>book_table</th>\n",
       "      <th>rate</th>\n",
       "      <th>votes</th>\n",
       "      <th>rest_type</th>\n",
       "      <th>cuisines</th>\n",
       "      <th>cost</th>\n",
       "      <th>service_type</th>\n",
       "      <th>same_locality</th>\n",
       "    </tr>\n",
       "  </thead>\n",
       "  <tbody>\n",
       "    <tr>\n",
       "      <th>0</th>\n",
       "      <td>Yes</td>\n",
       "      <td>Yes</td>\n",
       "      <td>4.1</td>\n",
       "      <td>775</td>\n",
       "      <td>Casual Dining</td>\n",
       "      <td>North Indian, Mughlai, Chinese</td>\n",
       "      <td>800.0</td>\n",
       "      <td>Buffet</td>\n",
       "      <td>1</td>\n",
       "    </tr>\n",
       "    <tr>\n",
       "      <th>1</th>\n",
       "      <td>Yes</td>\n",
       "      <td>No</td>\n",
       "      <td>4.1</td>\n",
       "      <td>787</td>\n",
       "      <td>Casual Dining</td>\n",
       "      <td>Chinese, North Indian, Thai</td>\n",
       "      <td>800.0</td>\n",
       "      <td>Buffet</td>\n",
       "      <td>1</td>\n",
       "    </tr>\n",
       "    <tr>\n",
       "      <th>2</th>\n",
       "      <td>Yes</td>\n",
       "      <td>No</td>\n",
       "      <td>3.8</td>\n",
       "      <td>918</td>\n",
       "      <td>Cafe, Casual Dining</td>\n",
       "      <td>Cafe, Mexican, Italian</td>\n",
       "      <td>800.0</td>\n",
       "      <td>Buffet</td>\n",
       "      <td>1</td>\n",
       "    </tr>\n",
       "    <tr>\n",
       "      <th>3</th>\n",
       "      <td>No</td>\n",
       "      <td>No</td>\n",
       "      <td>3.7</td>\n",
       "      <td>88</td>\n",
       "      <td>Quick Bites</td>\n",
       "      <td>South Indian, North Indian</td>\n",
       "      <td>300.0</td>\n",
       "      <td>Buffet</td>\n",
       "      <td>1</td>\n",
       "    </tr>\n",
       "    <tr>\n",
       "      <th>4</th>\n",
       "      <td>No</td>\n",
       "      <td>No</td>\n",
       "      <td>3.8</td>\n",
       "      <td>166</td>\n",
       "      <td>Casual Dining</td>\n",
       "      <td>North Indian, Rajasthani</td>\n",
       "      <td>600.0</td>\n",
       "      <td>Buffet</td>\n",
       "      <td>1</td>\n",
       "    </tr>\n",
       "  </tbody>\n",
       "</table>\n",
       "</div>"
      ],
      "text/plain": [
       "  online_order book_table  rate  votes            rest_type  \\\n",
       "0          Yes        Yes   4.1    775        Casual Dining   \n",
       "1          Yes         No   4.1    787        Casual Dining   \n",
       "2          Yes         No   3.8    918  Cafe, Casual Dining   \n",
       "3           No         No   3.7     88          Quick Bites   \n",
       "4           No         No   3.8    166        Casual Dining   \n",
       "\n",
       "                         cuisines   cost service_type  same_locality  \n",
       "0  North Indian, Mughlai, Chinese  800.0       Buffet              1  \n",
       "1     Chinese, North Indian, Thai  800.0       Buffet              1  \n",
       "2          Cafe, Mexican, Italian  800.0       Buffet              1  \n",
       "3      South Indian, North Indian  300.0       Buffet              1  \n",
       "4        North Indian, Rajasthani  600.0       Buffet              1  "
      ]
     },
     "execution_count": 143,
     "metadata": {},
     "output_type": "execute_result"
    }
   ],
   "source": [
    "df=df.rename(columns={\"listed_in(type)\":\"service_type\"})\n",
    "df.head(5)"
   ]
  },
  {
   "cell_type": "code",
   "execution_count": 145,
   "id": "b454d1cf-3515-4a82-bfae-7473b0de1f97",
   "metadata": {},
   "outputs": [
    {
     "data": {
      "text/plain": [
       "87"
      ]
     },
     "execution_count": 145,
     "metadata": {},
     "output_type": "execute_result"
    }
   ],
   "source": [
    "df['rest_type'].nunique()"
   ]
  },
  {
   "cell_type": "code",
   "execution_count": 147,
   "id": "79277fc6-9384-422b-ac61-c8413e498336",
   "metadata": {},
   "outputs": [
    {
     "data": {
      "text/plain": [
       "rest_type\n",
       "Quick Bites                   0.335871\n",
       "Casual Dining                 0.232657\n",
       "Cafe                          0.082017\n",
       "Dessert Parlor                0.044898\n",
       "Delivery                      0.040466\n",
       "                                ...   \n",
       "Food Court, Beverage Shop     0.000048\n",
       "Dessert Parlor, Food Court    0.000048\n",
       "Dessert Parlor, Kiosk         0.000048\n",
       "Bakery, Beverage Shop         0.000024\n",
       "Quick Bites, Kiosk            0.000024\n",
       "Name: proportion, Length: 87, dtype: float64"
      ]
     },
     "execution_count": 147,
     "metadata": {},
     "output_type": "execute_result"
    }
   ],
   "source": [
    "df['rest_type'].value_counts(normalize=True)"
   ]
  },
  {
   "cell_type": "code",
   "execution_count": 149,
   "id": "9cc195a5-2152-4e15-b9ed-a203fe1e67e0",
   "metadata": {},
   "outputs": [
    {
     "data": {
      "text/plain": [
       "rest_type\n",
       "Quick Bites                   0.335871\n",
       "Casual Dining                 0.568528\n",
       "Cafe                          0.650544\n",
       "Dessert Parlor                0.695443\n",
       "Delivery                      0.735909\n",
       "                                ...   \n",
       "Food Court, Beverage Shop     0.999855\n",
       "Dessert Parlor, Food Court    0.999904\n",
       "Dessert Parlor, Kiosk         0.999952\n",
       "Bakery, Beverage Shop         0.999976\n",
       "Quick Bites, Kiosk            1.000000\n",
       "Name: proportion, Length: 87, dtype: float64"
      ]
     },
     "execution_count": 149,
     "metadata": {},
     "output_type": "execute_result"
    }
   ],
   "source": [
    "rest_type_cum_percentage=df['rest_type'].value_counts(normalize=True).cumsum()\n",
    "rest_type_cum_percentage"
   ]
  },
  {
   "cell_type": "code",
   "execution_count": 151,
   "id": "24bf059b-9352-40b7-92ec-ca359af2f1d4",
   "metadata": {},
   "outputs": [
    {
     "data": {
      "text/plain": [
       "Index(['Quick Bites', 'Casual Dining', 'Cafe', 'Dessert Parlor', 'Delivery',\n",
       "       'Takeaway, Delivery', 'Casual Dining, Bar'],\n",
       "      dtype='object', name='rest_type')"
      ]
     },
     "execution_count": 151,
     "metadata": {},
     "output_type": "execute_result"
    }
   ],
   "source": [
    "#set the threshold for cumulative percentage\n",
    "threshold=0.8\n",
    "\n",
    "#indentify categories exceeding the threshold\n",
    "top_categories= rest_type_cum_percentage[rest_type_cum_percentage<=threshold].index\n",
    "top_categories"
   ]
  },
  {
   "cell_type": "code",
   "execution_count": 155,
   "id": "4127b240-ad2d-4c3b-8d74-cf8875feae51",
   "metadata": {},
   "outputs": [
    {
     "data": {
      "text/plain": [
       "rest_type\n",
       "Quick Bites           13944\n",
       "Casual Dining          9659\n",
       "Other                  8711\n",
       "Cafe                   3405\n",
       "Dessert Parlor         1864\n",
       "Delivery               1680\n",
       "Takeaway, Delivery     1292\n",
       "Casual Dining, Bar     1110\n",
       "Name: count, dtype: int64"
      ]
     },
     "execution_count": 155,
     "metadata": {},
     "output_type": "execute_result"
    }
   ],
   "source": [
    "df['rest_type']= df['rest_type'].where(df['rest_type'].isin(top_categories),'Other')\n",
    "df['rest_type'].value_counts()"
   ]
  },
  {
   "cell_type": "code",
   "execution_count": 157,
   "id": "8649481b-d482-41a0-af44-ca84299b30aa",
   "metadata": {},
   "outputs": [
    {
     "data": {
      "text/plain": [
       "2383"
      ]
     },
     "execution_count": 157,
     "metadata": {},
     "output_type": "execute_result"
    }
   ],
   "source": [
    "df['cuisines'].nunique()"
   ]
  },
  {
   "cell_type": "code",
   "execution_count": 159,
   "id": "b404bf59-4466-45d1-9f8a-14314e9c87a7",
   "metadata": {},
   "outputs": [
    {
     "data": {
      "text/plain": [
       "cuisines\n",
       "North Indian                                             2158\n",
       "North Indian, Chinese                                    1980\n",
       "South Indian                                             1234\n",
       "Cafe                                                      642\n",
       "Bakery, Desserts                                          615\n",
       "                                                         ... \n",
       "North Indian, Mughlai, Chinese, Seafood, South Indian       1\n",
       "Chinese, Thai, Seafood, Malaysian                           1\n",
       "North Indian, Chinese, Arabian, Kebab                       1\n",
       "Turkish, Fast Food, Biryani, Chinese                        1\n",
       "North Indian, Chinese, Arabian, Momos                       1\n",
       "Name: count, Length: 2383, dtype: int64"
      ]
     },
     "execution_count": 159,
     "metadata": {},
     "output_type": "execute_result"
    }
   ],
   "source": [
    "df['cuisines'].value_counts()"
   ]
  },
  {
   "cell_type": "code",
   "execution_count": 169,
   "id": "8af719f9-8c15-4056-96cb-e9acaf48ea08",
   "metadata": {},
   "outputs": [
    {
     "name": "stdout",
     "output_type": "stream",
     "text": [
      "                                                cuisines      cuisine_type\n",
      "36937  Biryani, North Indian, Chinese, Andhra, South ...  multi-speciality\n",
      "32318                                   Pizza, Fast Food  multi-speciality\n",
      "39598                     North Indian, Biryani, Arabian  multi-speciality\n",
      "41840                                     Chinese, Momos  multi-speciality\n",
      "28549                                       North Indian   core_speciality\n"
     ]
    }
   ],
   "source": [
    "df['cuisine_type']=df['cuisines'].apply(lambda x:\n",
    "                                            'multi-speciality' if isinstance(x,str)\n",
    "                                            and len(x.split(',')) >1 else 'core_speciality')\n",
    "\n",
    "print(df[['cuisines','cuisine_type']].sample(5))"
   ]
  },
  {
   "cell_type": "code",
   "execution_count": 173,
   "id": "f2898425-f19a-421f-a40b-f4b13ed1e2c1",
   "metadata": {},
   "outputs": [
    {
     "name": "stdout",
     "output_type": "stream",
     "text": [
      "North Indian    17406\n",
      "Chinese         13005\n",
      "South Indian     6394\n",
      "Fast Food        6360\n",
      "Continental      5245\n",
      "Biryani          5071\n",
      "Cafe             4828\n",
      "Desserts         4537\n",
      "Beverages        3873\n",
      "Italian          3213\n",
      "Name: count, dtype: int64\n"
     ]
    }
   ],
   "source": [
    "#create a list by splitting cuisine strings\n",
    "cuisines_list=[cuisine.strip() for cuisines in df['cuisines'].dropna()\n",
    "               for cuisine in str(cuisines).split(',')]\n",
    "\n",
    "top_cuisines_counts= pd.Series(cuisines_list).value_counts().head(10)\n",
    "\n",
    "print(top_cuisines_counts)"
   ]
  },
  {
   "cell_type": "code",
   "execution_count": 177,
   "id": "1e3e4aec-1c7c-4936-9034-8cdcd00c2b2d",
   "metadata": {},
   "outputs": [
    {
     "data": {
      "text/plain": [
       "offers_popular_cuisines\n",
       "Yes    37344\n",
       "No      4321\n",
       "Name: count, dtype: int64"
      ]
     },
     "execution_count": 177,
     "metadata": {},
     "output_type": "execute_result"
    }
   ],
   "source": [
    "#create new column 'offer_special_cuisines' based on whether the cuisines are amonng the top 10\n",
    "df['offers_popular_cuisines']=df['cuisines'].apply(\n",
    "    lambda x: 'Yes' if any(cuisne in str(x) for cuisne in top_cuisines_counts.index)\n",
    "    and pd.notna(x) else 'No')\n",
    "\n",
    "df['offers_popular_cuisines'].value_counts()"
   ]
  },
  {
   "cell_type": "code",
   "execution_count": 179,
   "id": "2f4e7e6e-73cc-4542-b1eb-a3f5c54f80f8",
   "metadata": {},
   "outputs": [],
   "source": [
    "df.drop('cuisines', axis=1, inplace=True) #because it contains str"
   ]
  },
  {
   "cell_type": "code",
   "execution_count": 181,
   "id": "cea4713a-2328-469f-8c6e-9c0b5b6aa45d",
   "metadata": {},
   "outputs": [
    {
     "data": {
      "text/plain": [
       "0"
      ]
     },
     "execution_count": 181,
     "metadata": {},
     "output_type": "execute_result"
    }
   ],
   "source": [
    "df.isnull().sum().sum()"
   ]
  }
 ],
 "metadata": {
  "kernelspec": {
   "display_name": "Python 3 (ipykernel)",
   "language": "python",
   "name": "python3"
  },
  "language_info": {
   "codemirror_mode": {
    "name": "ipython",
    "version": 3
   },
   "file_extension": ".py",
   "mimetype": "text/x-python",
   "name": "python",
   "nbconvert_exporter": "python",
   "pygments_lexer": "ipython3",
   "version": "3.12.4"
  }
 },
 "nbformat": 4,
 "nbformat_minor": 5
}
